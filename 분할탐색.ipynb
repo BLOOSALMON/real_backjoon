{
  "nbformat": 4,
  "nbformat_minor": 0,
  "metadata": {
    "colab": {
      "provenance": [],
      "authorship_tag": "ABX9TyP40siliel3szZQ3DLU6jw9",
      "include_colab_link": true
    },
    "kernelspec": {
      "name": "python3",
      "display_name": "Python 3"
    },
    "language_info": {
      "name": "python"
    }
  },
  "cells": [
    {
      "cell_type": "markdown",
      "metadata": {
        "id": "view-in-github",
        "colab_type": "text"
      },
      "source": [
        "<a href=\"https://colab.research.google.com/github/BLOOSALMON/real_backjoon/blob/main/%EB%B6%84%ED%95%A0%ED%83%90%EC%83%89.ipynb\" target=\"_parent\"><img src=\"https://colab.research.google.com/assets/colab-badge.svg\" alt=\"Open In Colab\"/></a>"
      ]
    },
    {
      "cell_type": "code",
      "execution_count": null,
      "metadata": {
        "id": "7cGYZGJ62AkS"
      },
      "outputs": [],
      "source": [
        "# 색종이\n"
      ]
    },
    {
      "cell_type": "code",
      "source": [
        "#쿼드트리\n"
      ],
      "metadata": {
        "id": "22uS5iaD63-F"
      },
      "execution_count": null,
      "outputs": []
    },
    {
      "cell_type": "code",
      "source": [
        "선형\n",
        "\n",
        "people = [list(map(int, input.split()) for i in range(4))]\n",
        "\n",
        "for x, y in people:\n",
        "  all = all -x +y\n",
        "  max = all\n",
        "  if all"
      ],
      "metadata": {
        "id": "F7bGvjaI8NDA"
      },
      "execution_count": null,
      "outputs": []
    },
    {
      "cell_type": "code",
      "source": [
        "# 곱셈\n",
        "def reduce_pow(a, b, c):\n",
        "  if (b == 1):\n",
        "    return a % c\n",
        "\n",
        "  X = reduce_pow(a, b//2, c)\n",
        "\n",
        "  if (b % 2) == 1:\n",
        "    return ((temp) * (temp) % c) * a % c\n",
        "  else:\n",
        "    return (temp * temp) % c"
      ],
      "metadata": {
        "id": "v1rRzTbpO9Hb"
      },
      "execution_count": null,
      "outputs": []
    },
    {
      "cell_type": "code",
      "source": [
        "이항\n",
        "\n",
        "def fectorial(n):\n",
        "  return n * n-1\n",
        "\n",
        "ehang = factorial(n) / catorial(n-k) * factorial(k)\n",
        "\n"
      ],
      "metadata": {
        "id": "6pZC1OQKTIpX"
      },
      "execution_count": null,
      "outputs": []
    },
    {
      "cell_type": "code",
      "source": [
        "# 이항3\n",
        "def factorial(n):\n",
        "  result = 1\n",
        "  for i in range(2, n+1):\n",
        "    result = (result * i) % p\n",
        "  return result\n",
        "\n",
        "def col(n, k):\n",
        "  if (k == 0):\n",
        "    return 1\n",
        "\n",
        "  if (k == 1):\n",
        "    return n\n",
        "\n",
        "  result = col(n,k // 2)\n",
        "  if(k%2 == 0):\n",
        "    return result * result & p\n",
        "  else:\n",
        "    return result * result * n % p\n",
        "\n",
        "top = factorial(N)\n",
        "bottom = factorial(N - K) * factorial(K) % p\n",
        "answer = top * col(bottom, p-2) % p\n",
        "print(answer)\n"
      ],
      "metadata": {
        "id": "bp9xfHTvVHoK"
      },
      "execution_count": null,
      "outputs": []
    },
    {
      "cell_type": "code",
      "source": [
        "def factorial(N):\n",
        "  result = 1\n",
        "  for i in range(2, N+1):\n",
        "    return (result * i) % p\n",
        "\n"
      ],
      "metadata": {
        "id": "L3w8bvjhW3kI"
      },
      "execution_count": null,
      "outputs": []
    },
    {
      "cell_type": "code",
      "source": [
        "# 행렬 곱셈\n",
        "from sys import stdin\n",
        "input = stdin.readline\n",
        "AN, AM = map(int, input().split())\n",
        "A = [list(map(int, input().split()))]\n",
        "bN, bM = map(int, input().split())\n",
        "b = [list(map(int, input().split()))]\n",
        "\n",
        "answer [[0 for _ in range(bM)] for _ in range(AN)]\n",
        "\n",
        "\n",
        "for i in range(AN):\n",
        "  for j in range(bM):\n",
        "    answer[i][j] = sum([A[i][k] * B[k][j] for k in range(AM)])\n",
        "  print()\n",
        "\n",
        "\n"
      ],
      "metadata": {
        "id": "YiD5m9NzXYUb"
      },
      "execution_count": null,
      "outputs": []
    },
    {
      "cell_type": "code",
      "source": [
        "# 행렬 제곱\n",
        "N, B = map(int, input().split())\n",
        "arr = [list(map(int, input().split())) for i in range(N)]\n",
        "answer = [[0 for _ in range(N)] for _ in range(N)]\n",
        "\n",
        "for i in range(N):\n",
        "  for j in range(N):\n",
        "    answer_ = arr[i][j] * arr[j][i]\n"
      ],
      "metadata": {
        "id": "yQ2uN0jxbK3l"
      },
      "execution_count": null,
      "outputs": []
    },
    {
      "cell_type": "code",
      "source": [
        "# 히스토그램에서 가장 큰 직사각형\n",
        "\n"
      ],
      "metadata": {
        "id": "AmEqW8rhs-0M"
      },
      "execution_count": null,
      "outputs": []
    },
    {
      "cell_type": "code",
      "source": [
        "# 이항 계수 3\n",
        "# 아이디어 :  펙토리얼 3번 호출\n",
        "\n",
        "def factorial(N):\n",
        "  return N * factorial(N)\n",
        "\n",
        "N = int(input())\n",
        "K = int(input())\n",
        "print((factorial(N) /  (factorial(N-K) * factorial(K))) % 1,000,000,007)\n",
        "\n",
        "\n",
        "\n"
      ],
      "metadata": {
        "colab": {
          "base_uri": "https://localhost:8080/",
          "height": 127
        },
        "id": "JQnn3Dtcjg_T",
        "outputId": "17f39cd8-a531-4ea6-e4b9-82e174d39fd5"
      },
      "execution_count": null,
      "outputs": [
        {
          "output_type": "error",
          "ename": "SyntaxError",
          "evalue": "leading zeros in decimal integer literals are not permitted; use an 0o prefix for octal integers (<ipython-input-1-6eab4e8edfe0>, line 9)",
          "traceback": [
            "\u001b[0;36m  File \u001b[0;32m\"<ipython-input-1-6eab4e8edfe0>\"\u001b[0;36m, line \u001b[0;32m9\u001b[0m\n\u001b[0;31m    print((factorial(N) /  (factorial(N-K) * factorial(K))) % 1,000,000,007)\u001b[0m\n\u001b[0m                                                                        ^\u001b[0m\n\u001b[0;31mSyntaxError\u001b[0m\u001b[0;31m:\u001b[0m leading zeros in decimal integer literals are not permitted; use an 0o prefix for octal integers\n"
          ]
        }
      ]
    },
    {
      "cell_type": "code",
      "source": [
        "#\n",
        "for i in range(N):\n",
        "  for j in range()"
      ],
      "metadata": {
        "id": "RTWQEK-ZxuXd"
      },
      "execution_count": null,
      "outputs": []
    }
  ]
}