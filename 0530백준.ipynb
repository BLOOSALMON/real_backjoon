{
  "nbformat": 4,
  "nbformat_minor": 0,
  "metadata": {
    "colab": {
      "provenance": [],
      "authorship_tag": "ABX9TyMJGntIByrYOYttWDNB2Os6",
      "include_colab_link": true
    },
    "kernelspec": {
      "name": "python3",
      "display_name": "Python 3"
    },
    "language_info": {
      "name": "python"
    }
  },
  "cells": [
    {
      "cell_type": "markdown",
      "metadata": {
        "id": "view-in-github",
        "colab_type": "text"
      },
      "source": [
        "<a href=\"https://colab.research.google.com/github/BLOOSALMON/real_backjoon/blob/main/0530%EB%B0%B1%EC%A4%80.ipynb\" target=\"_parent\"><img src=\"https://colab.research.google.com/assets/colab-badge.svg\" alt=\"Open In Colab\"/></a>"
      ]
    },
    {
      "cell_type": "code",
      "execution_count": null,
      "metadata": {
        "id": "x57YR4bU8tqs"
      },
      "outputs": [],
      "source": [
        "# 이진 탐색 기본코드\n",
        "def dinary_search(target, data):\n",
        "  data.sort()\n",
        "  start = 0\n",
        "  end = len(data)-1\n",
        "  result = 0\n",
        "\n",
        "  mid = (end - start) // 2\n",
        "\n",
        "  if data[mid] == target:\n",
        "    result = mid # 위치 저장\n",
        "\n",
        "  elif data[mid] > target:\n",
        "    end = mid - 1 # 이미 중간값까지 탐색\n",
        "  else:\n",
        "    start mid + 1\n"
      ]
    },
    {
      "cell_type": "code",
      "source": [
        "# 공유기\n",
        "dists = [arr[i+1] - arr[i] for i in len(arr)].sort() # 이렇게 하면 안됨, 사이거리가 아님.\n",
        "# 거리는 배열로 못 만든다\n",
        "answer = 0\n",
        "start, end = 1, house_list[-1] - house_list[0]\n",
        "def binary_search(target, arr):\n",
        "  while start <= end:\n",
        "    mid = (start + end) // 2 # 거리\n",
        "    prev, cnt = house_list[0], 1\n",
        "    for i in range(1, N):\n",
        "      if house_list[i] - prev >= mid:\n",
        "        cnt += 1\n",
        "        prev = house_list[i]\n",
        "\n",
        "\n",
        "\n"
      ],
      "metadata": {
        "id": "nim_FlZ_-klH"
      },
      "execution_count": null,
      "outputs": []
    },
    {
      "cell_type": "code",
      "source": [
        "# k번째 수\n"
      ],
      "metadata": {
        "id": "vRYAtg_MCium"
      },
      "execution_count": null,
      "outputs": []
    },
    {
      "cell_type": "code",
      "source": [
        "# 우선순위 큐\n",
        "# 최소 힙\n",
        "import sys\n",
        "import heapq\n",
        "\n",
        "n = int(sys.stdin.readline())\n",
        "heap = []\n",
        "\n",
        "for i in range(n):\n",
        "  x = sys.stdin.readline()\n",
        "\n",
        "  if x == 0:\n",
        "\n",
        "    if heap:\n",
        "      print(heapq.heappop(heap))\n",
        "    else:\n",
        "      print(0)\n",
        "\n",
        "  else:\n",
        "    heapa.heappush(heap, x)\n",
        "\n"
      ],
      "metadata": {
        "colab": {
          "base_uri": "https://localhost:8080/",
          "height": 224
        },
        "id": "MtKAuS2jDWFa",
        "outputId": "02e2cc33-00c8-4501-da30-562d59f0c11e"
      },
      "execution_count": null,
      "outputs": [
        {
          "output_type": "error",
          "ename": "ValueError",
          "evalue": "invalid literal for int() with base 10: ''",
          "traceback": [
            "\u001b[0;31m---------------------------------------------------------------------------\u001b[0m",
            "\u001b[0;31mValueError\u001b[0m                                Traceback (most recent call last)",
            "\u001b[0;32m<ipython-input-1-ddd24174a5df>\u001b[0m in \u001b[0;36m<cell line: 0>\u001b[0;34m()\u001b[0m\n\u001b[1;32m      4\u001b[0m \u001b[0;32mimport\u001b[0m \u001b[0mheapq\u001b[0m\u001b[0;34m\u001b[0m\u001b[0;34m\u001b[0m\u001b[0m\n\u001b[1;32m      5\u001b[0m \u001b[0;34m\u001b[0m\u001b[0m\n\u001b[0;32m----> 6\u001b[0;31m \u001b[0mn\u001b[0m \u001b[0;34m=\u001b[0m \u001b[0mint\u001b[0m\u001b[0;34m(\u001b[0m\u001b[0msys\u001b[0m\u001b[0;34m.\u001b[0m\u001b[0mstdin\u001b[0m\u001b[0;34m.\u001b[0m\u001b[0mreadline\u001b[0m\u001b[0;34m(\u001b[0m\u001b[0;34m)\u001b[0m\u001b[0;34m)\u001b[0m\u001b[0;34m\u001b[0m\u001b[0;34m\u001b[0m\u001b[0m\n\u001b[0m\u001b[1;32m      7\u001b[0m \u001b[0mheap\u001b[0m \u001b[0;34m=\u001b[0m \u001b[0;34m[\u001b[0m\u001b[0;34m]\u001b[0m\u001b[0;34m\u001b[0m\u001b[0;34m\u001b[0m\u001b[0m\n\u001b[1;32m      8\u001b[0m \u001b[0;34m\u001b[0m\u001b[0m\n",
            "\u001b[0;31mValueError\u001b[0m: invalid literal for int() with base 10: ''"
          ]
        }
      ]
    },
    {
      "cell_type": "code",
      "source": [
        "# 절댓값 힙\n",
        "절댓값과 쌍으로 적용, 음수와 양수 따로 저장\n",
        "\n",
        "heap_p = []\n",
        "heap_n = []\n",
        "\n",
        "for in\n",
        "  x = sys.stdin.readline()\n",
        "\n",
        "  if x == 0:\n",
        "\n",
        "    if heap_n or heap_p:\n",
        "      if abs(max(heap_n)) == abs(min(heap_p)):\n",
        "          print(heapq.heappop(heap_n))\n",
        "      else:\n",
        "        print(max(abs(max(heap_n)), abs(min(heap_p))))\n",
        "\n",
        "    else:\n",
        "      print(0)\n",
        "\n",
        "  else:\n",
        "    if x > 0:\n",
        "      heapq.heappush(heap_p, x)\n",
        "    else :\n",
        "      heapq.heappush(heap_n, -x) # 절댓값이 작은게 앞에 와야함\n",
        "\n",
        "\n",
        "\n",
        "\n",
        "\n"
      ],
      "metadata": {
        "id": "ar54tIelGnX0"
      },
      "execution_count": null,
      "outputs": []
    },
    {
      "cell_type": "code",
      "source": [
        "for i in range(N):\n",
        "  a =\n",
        "  if x < 0:\n",
        "    heapq.heappush(p1, -x)\n",
        "  elif x > 0:\n",
        "    heapq.heappush(p2, x)\n",
        "  else:\n",
        "    if not pq:\n",
        "      if not p2:\n",
        "\n",
        "        temp = - pop\n",
        "        trmp2 = pop\n",
        "\n",
        "        if  >\n"
      ],
      "metadata": {
        "id": "Bmt7k_VMJsrn"
      },
      "execution_count": null,
      "outputs": []
    },
    {
      "cell_type": "code",
      "source": [
        "# N번째 큰 수\n",
        "heap = []\n",
        "\n",
        "for i in range(N):\n",
        "  arr = sys.stdin.readline().split()\n",
        "  for i in range(N):\n",
        "\n",
        "\n",
        "    heapq.heappush(heap, -i)\n",
        "\n",
        "for i in range(N):\n",
        "  import heapq\n",
        "\n",
        "heap = []\n",
        "n = int(input())\n",
        "\n",
        "for _ in range(n):\n",
        "    numbers = map(int, input().split())\n",
        "    for number in numbers:\n",
        "        if len(heap) < n: # heap의 크기를 n개로 유지\n",
        "            heapq.heappush(heap, number)\n",
        "        else:\n",
        "            if heap[0] < number:\n",
        "                heapq.heappop(heap)\n",
        "                heapq.heappush(heap, number)\n",
        "print(heap[0])\n",
        "출처: https://kjhoon0330.tistory.com/entry/BOJ-2075-N번째-큰-수-Python [Jahni's Blog:티스토리]\n",
        "\n",
        "\n",
        "\n"
      ],
      "metadata": {
        "id": "N0Nu68FQK82p"
      },
      "execution_count": null,
      "outputs": []
    },
    {
      "cell_type": "code",
      "source": [
        "# 중앙값 구하기\n",
        "(N+1) / 2\n",
        "heap1 = []\n",
        "heap2 = []\n",
        "for i in range():\n",
        "  heapq.heappush()\n",
        "  from heapq import heappush,heappop\n",
        "for _ in range(int(input())):\n",
        "    stg = []\n",
        "    llen = int(input())\n",
        "    mid = 0\n",
        "    mxq = []\n",
        "    minq = []\n",
        "    flag = True\n",
        "    rst = 1\n",
        "    rststg = []\n",
        "    for i in range(llen//10+1):\n",
        "        stg.extend(list(map(int,input().split())))\n",
        "    for idx,i in enumerate(stg):\n",
        "        if not mxq and not minq and flag:\n",
        "            mid = i\n",
        "            flag = False\n",
        "            rststg.append(mid)\n",
        "            continue\n",
        "        elif mid>i:\n",
        "            heappush(mxq,(-i,i))\n",
        "        else:\n",
        "            heappush(minq,i)\n",
        "        if idx%2+1==1:\n",
        "            if len(mxq)>len(minq):\n",
        "                heappush(minq,mid)\n",
        "                mid = heappop(mxq)[1]\n",
        "                rststg.append(mid)\n",
        "                rst+=1\n",
        "            elif len(mxq)<len(minq):\n",
        "                heappush(mxq,(-mid,mid))\n",
        "                mid = heappop(minq)\n",
        "                rststg.append(mid)\n",
        "                rst+=1\n",
        "            else:\n",
        "                rststg.append(mid)\n",
        "                rst+=1\n",
        "    print(rst)\n",
        "    for idx,i in enumerate(rststg):\n",
        "        print(i,end = \" \")\n",
        "        if (idx+1)%10==0:\n",
        "            print(\"\")\n",
        "            continue\n",
        "    print(\"\")\n",
        "\n",
        "    # 이해는 했으니 주말에 다시 풀어보기\n",
        "\n"
      ],
      "metadata": {
        "id": "QNL6mIQASfDx"
      },
      "execution_count": null,
      "outputs": []
    },
    {
      "cell_type": "code",
      "source": [],
      "metadata": {
        "id": "FOGQ0IoAapAF"
      },
      "execution_count": null,
      "outputs": []
    }
  ]
}