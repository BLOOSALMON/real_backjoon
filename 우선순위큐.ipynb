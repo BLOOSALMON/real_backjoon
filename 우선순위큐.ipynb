{
  "nbformat": 4,
  "nbformat_minor": 0,
  "metadata": {
    "colab": {
      "provenance": [],
      "authorship_tag": "ABX9TyPpc3ij4TTs2UouGs4m/je3",
      "include_colab_link": true
    },
    "kernelspec": {
      "name": "python3",
      "display_name": "Python 3"
    },
    "language_info": {
      "name": "python"
    }
  },
  "cells": [
    {
      "cell_type": "markdown",
      "metadata": {
        "id": "view-in-github",
        "colab_type": "text"
      },
      "source": [
        "<a href=\"https://colab.research.google.com/github/BLOOSALMON/real_backjoon/blob/main/%EC%9A%B0%EC%84%A0%EC%88%9C%EC%9C%84%ED%81%90.ipynb\" target=\"_parent\"><img src=\"https://colab.research.google.com/assets/colab-badge.svg\" alt=\"Open In Colab\"/></a>"
      ]
    },
    {
      "cell_type": "code",
      "execution_count": null,
      "metadata": {
        "id": "2IZcwPETmeQX"
      },
      "outputs": [],
      "source": [
        "# 최대 힙\n",
        "import ys\n",
        "import headq\n",
        "\n",
        "n = int(sys.stdin.realine())\n",
        "max_heap = []\n",
        "\n",
        "for i in range(n):\n",
        "  number = int(sys.stdin.readline())\n",
        "\n",
        "  if number > 0:\n",
        "    headq.headpush(max_heap, -number)\n",
        "\n",
        "  else:\n",
        "    if not max_heap:\n",
        "      print(0)\n",
        "    else:\n",
        "      print(-heap.heappop(max_heap)) 여기 이해 안됨. 음수로 넣었는데 max 하면 절댓값 제일 작은 수 나오잖아.\n",
        "\n"
      ]
    }
  ]
}